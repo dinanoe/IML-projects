{
 "cells": [
  {
   "cell_type": "code",
   "execution_count": 1,
   "metadata": {},
   "outputs": [],
   "source": [
    "import numpy as np\n",
    "import sklearn as sk\n",
    "from sklearn import linear_model\n",
    "from sklearn.metrics import mean_squared_error"
   ]
  },
  {
   "attachments": {},
   "cell_type": "markdown",
   "metadata": {},
   "source": [
    "Load the dataset"
   ]
  },
  {
   "cell_type": "code",
   "execution_count": 2,
   "metadata": {},
   "outputs": [
    {
     "name": "stdout",
     "output_type": "stream",
     "text": [
      "[[ -483.79749196  1288.05706466  -129.87871176 ...  -676.52396365\n",
      "   1327.22965506  -448.69544586]\n",
      " [ -316.40730486    30.83055597  -313.35672639 ...   112.33873097\n",
      "   1372.34022087  2062.56184249]\n",
      " [-2448.55899655  -561.9884085    355.09881965 ...   246.80120955\n",
      "   -562.41319652  -841.60201454]\n",
      " ...\n",
      " [  199.86464767   261.34577883  -127.9868049  ...  -517.18289177\n",
      "     79.69414067  1016.12660703]\n",
      " [ -151.6731569  -1425.19961999  1070.92211365 ... -1206.76602098\n",
      "  -1047.46487113     7.58810151]\n",
      " [  -97.08998298   780.44424995   221.08152007 ...  2531.7054924\n",
      "    -35.72203447   173.20019051]]\n"
     ]
    }
   ],
   "source": [
    "train = np.genfromtxt(\"train.csv\", delimiter=\",\")[1:]\n",
    "Y = train[:, 1]\n",
    "X = train[:, 2:]\n",
    "\n",
    "test = np.genfromtxt(\"test.csv\", delimiter=\",\")[1:]\n",
    "T = test[:, 1:]\n",
    "print(T)"
   ]
  },
  {
   "attachments": {},
   "cell_type": "markdown",
   "metadata": {},
   "source": [
    "Fit the linear model"
   ]
  },
  {
   "cell_type": "code",
   "execution_count": 3,
   "metadata": {},
   "outputs": [
    {
     "ename": "AttributeError",
     "evalue": "module 'sklearn' has no attribute 'linear_model'",
     "output_type": "error",
     "traceback": [
      "\u001b[1;31m---------------------------------------------------------------------------\u001b[0m",
      "\u001b[1;31mAttributeError\u001b[0m                            Traceback (most recent call last)",
      "Cell \u001b[1;32mIn[3], line 1\u001b[0m\n\u001b[1;32m----> 1\u001b[0m regr \u001b[39m=\u001b[39m sk\u001b[39m.\u001b[39;49mlinear_model\u001b[39m.\u001b[39mLinearRegression()\n\u001b[0;32m      2\u001b[0m regr\u001b[39m.\u001b[39mfit(X, Y)\n\u001b[0;32m      3\u001b[0m \u001b[39mprint\u001b[39m(\u001b[39m\"\u001b[39m\u001b[39mCoefficients: \u001b[39m\u001b[39m\\n\u001b[39;00m\u001b[39m\"\u001b[39m, regr\u001b[39m.\u001b[39mcoef_)\n",
      "\u001b[1;31mAttributeError\u001b[0m: module 'sklearn' has no attribute 'linear_model'"
     ]
    }
   ],
   "source": [
    "regr = sk.linear_model.LinearRegression()\n",
    "regr.fit(X, Y)\n",
    "print(\"Coefficients: \\n\", regr.coef_)"
   ]
  },
  {
   "attachments": {},
   "cell_type": "markdown",
   "metadata": {},
   "source": [
    "Check for error:"
   ]
  },
  {
   "cell_type": "code",
   "execution_count": 22,
   "metadata": {},
   "outputs": [
    {
     "name": "stdout",
     "output_type": "stream",
     "text": [
      "1.1032343485902542e-12\n"
     ]
    }
   ],
   "source": [
    "Y_predict = regr.predict(X)\n",
    "sqr_error = mean_squared_error(Y, Y_predict)**0.5\n",
    "print(sqr_error)"
   ]
  },
  {
   "attachments": {},
   "cell_type": "markdown",
   "metadata": {},
   "source": [
    "Predict test"
   ]
  },
  {
   "cell_type": "code",
   "execution_count": 24,
   "metadata": {},
   "outputs": [
    {
     "name": "stdout",
     "output_type": "stream",
     "text": [
      "[ -66.00242349  451.4065044  -461.67641706 ...  -35.13540942 -131.67918453\n",
      "  417.26915462]\n"
     ]
    }
   ],
   "source": [
    "T_predict = regr.predict(T)\n",
    "print(T_predict)"
   ]
  },
  {
   "attachments": {},
   "cell_type": "markdown",
   "metadata": {},
   "source": [
    "Save predicted into file"
   ]
  },
  {
   "cell_type": "code",
   "execution_count": 26,
   "metadata": {},
   "outputs": [],
   "source": [
    "with open(\"prediction.csv\", \"w+\") as file:\n",
    "    file.write(\"Id,y\\n\")\n",
    "    start = 10000\n",
    "    for val in T_predict:\n",
    "        file.write(f\"{start},{val}\\n\")\n",
    "        start += 1"
   ]
  }
 ],
 "metadata": {
  "kernelspec": {
   "display_name": "venv",
   "language": "python",
   "name": "python3"
  },
  "language_info": {
   "codemirror_mode": {
    "name": "ipython",
    "version": 3
   },
   "file_extension": ".py",
   "mimetype": "text/x-python",
   "name": "python",
   "nbconvert_exporter": "python",
   "pygments_lexer": "ipython3",
   "version": "3.11.1"
  },
  "orig_nbformat": 4
 },
 "nbformat": 4,
 "nbformat_minor": 2
}
